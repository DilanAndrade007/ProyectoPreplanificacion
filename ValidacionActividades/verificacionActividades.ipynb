{
 "cells": [
  {
   "cell_type": "markdown",
   "id": "8c9c874d",
   "metadata": {},
   "source": [
    "Vamos a ver que las actividades 3 y 4 (que son obligatorias) estén seleccionadas por los docentes."
   ]
  },
  {
   "cell_type": "markdown",
   "id": "b4cd9c4c",
   "metadata": {},
   "source": [
    "Cargamos las librerias que vamos a emplear"
   ]
  },
  {
   "cell_type": "code",
   "execution_count": 1,
   "id": "3f76553c",
   "metadata": {},
   "outputs": [],
   "source": [
    "import pandas as pd\n",
    "import matplotlib.pyplot as plt\n",
    "import seaborn as sns"
   ]
  },
  {
   "cell_type": "markdown",
   "id": "b9dd898a",
   "metadata": {},
   "source": [
    "Definimos las columnas que queremos verificar que tienen horas. Hay dos columnas en específico que necesitamos verificar que tengan horas asignadas sí o sí, entonces se definen aquí."
   ]
  },
  {
   "cell_type": "code",
   "execution_count": 4,
   "id": "4f3d8a32",
   "metadata": {},
   "outputs": [],
   "source": [
    "activity1 = \"Preparación y actualización de clases, seminarios, talleres, entre otros\"\n",
    "activity2 = \"Preparación, elaboración, aplicación y calificación de exámenes, trabajos y prácticas; consultas académicas\""
   ]
  },
  {
   "cell_type": "markdown",
   "id": "3b59f6c6",
   "metadata": {},
   "source": [
    "Cargamos el archivo y vemos una vista rápida de las actividades que definimos arriba"
   ]
  },
  {
   "cell_type": "code",
   "execution_count": 7,
   "id": "cc176a6a",
   "metadata": {},
   "outputs": [
    {
     "name": "stderr",
     "output_type": "stream",
     "text": [
      "C:\\Users\\glenn\\AppData\\Roaming\\Python\\Python38\\site-packages\\openpyxl\\styles\\stylesheet.py:237: UserWarning: Workbook contains no default style, apply openpyxl's default\n",
      "  warn(\"Workbook contains no default style, apply openpyxl's default\")\n"
     ]
    },
    {
     "data": {
      "text/html": [
       "<div>\n",
       "<style scoped>\n",
       "    .dataframe tbody tr th:only-of-type {\n",
       "        vertical-align: middle;\n",
       "    }\n",
       "\n",
       "    .dataframe tbody tr th {\n",
       "        vertical-align: top;\n",
       "    }\n",
       "\n",
       "    .dataframe thead th {\n",
       "        text-align: right;\n",
       "    }\n",
       "</style>\n",
       "<table border=\"1\" class=\"dataframe\">\n",
       "  <thead>\n",
       "    <tr style=\"text-align: right;\">\n",
       "      <th></th>\n",
       "      <th>Preparación y actualización de clases, seminarios, talleres, entre otros</th>\n",
       "      <th>Preparación, elaboración, aplicación y calificación de exámenes, trabajos y prácticas; consultas académicas</th>\n",
       "    </tr>\n",
       "  </thead>\n",
       "  <tbody>\n",
       "    <tr>\n",
       "      <th>0</th>\n",
       "      <td>96.0</td>\n",
       "      <td>96.0</td>\n",
       "    </tr>\n",
       "    <tr>\n",
       "      <th>1</th>\n",
       "      <td>72.0</td>\n",
       "      <td>72.0</td>\n",
       "    </tr>\n",
       "    <tr>\n",
       "      <th>2</th>\n",
       "      <td>90.0</td>\n",
       "      <td>90.0</td>\n",
       "    </tr>\n",
       "    <tr>\n",
       "      <th>3</th>\n",
       "      <td>90.0</td>\n",
       "      <td>90.0</td>\n",
       "    </tr>\n",
       "    <tr>\n",
       "      <th>4</th>\n",
       "      <td>48.0</td>\n",
       "      <td>48.0</td>\n",
       "    </tr>\n",
       "  </tbody>\n",
       "</table>\n",
       "</div>"
      ],
      "text/plain": [
       "   Preparación y actualización de clases, seminarios, talleres, entre otros  \\\n",
       "0                                               96.0                          \n",
       "1                                               72.0                          \n",
       "2                                               90.0                          \n",
       "3                                               90.0                          \n",
       "4                                               48.0                          \n",
       "\n",
       "   Preparación, elaboración, aplicación y calificación de exámenes, trabajos y prácticas; consultas académicas  \n",
       "0                                               96.0                                                            \n",
       "1                                               72.0                                                            \n",
       "2                                               90.0                                                            \n",
       "3                                               90.0                                                            \n",
       "4                                               48.0                                                            "
      ]
     },
     "execution_count": 7,
     "metadata": {},
     "output_type": "execute_result"
    }
   ],
   "source": [
    "df = pd.read_excel(\"D:/vicerrectorado/Matriz actividades/data (51).xlsx\")\n",
    "\n",
    "# Vista rápida\n",
    "df[[activity1, activity2]].head()"
   ]
  },
  {
   "cell_type": "markdown",
   "id": "8b4a06ee",
   "metadata": {},
   "source": [
    "Empezamos a definir los parámetros de verificación (nombre no oficial), es decir, cuántas horas debe tener el docente en este campo"
   ]
  },
  {
   "cell_type": "code",
   "execution_count": null,
   "id": "e996fb6d",
   "metadata": {},
   "outputs": [],
   "source": []
  }
 ],
 "metadata": {
  "kernelspec": {
   "display_name": "Python 3",
   "language": "python",
   "name": "python3"
  },
  "language_info": {
   "codemirror_mode": {
    "name": "ipython",
    "version": 3
   },
   "file_extension": ".py",
   "mimetype": "text/x-python",
   "name": "python",
   "nbconvert_exporter": "python",
   "pygments_lexer": "ipython3",
   "version": "3.8.10"
  }
 },
 "nbformat": 4,
 "nbformat_minor": 5
}
